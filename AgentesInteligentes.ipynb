{
  "nbformat": 4,
  "nbformat_minor": 0,
  "metadata": {
    "colab": {
      "provenance": [],
      "authorship_tag": "ABX9TyNNC9WWU4Dtw4V4VPEnCNmj",
      "include_colab_link": true
    },
    "kernelspec": {
      "name": "python3",
      "display_name": "Python 3"
    },
    "language_info": {
      "name": "python"
    }
  },
  "cells": [
    {
      "cell_type": "markdown",
      "metadata": {
        "id": "view-in-github",
        "colab_type": "text"
      },
      "source": [
        "<a href=\"https://colab.research.google.com/github/luizaugustoliveira/Sistema-Feedbacks/blob/main/AgentesInteligentes.ipynb\" target=\"_parent\"><img src=\"https://colab.research.google.com/assets/colab-badge.svg\" alt=\"Open In Colab\"/></a>"
      ]
    },
    {
      "cell_type": "markdown",
      "source": [
        "instalação do orquestrador de agentes que é o langchain"
      ],
      "metadata": {
        "id": "m3oh9xmJxpTu"
      }
    },
    {
      "cell_type": "code",
      "execution_count": null,
      "metadata": {
        "colab": {
          "base_uri": "https://localhost:8080/"
        },
        "id": "8y3U1VoogBJT",
        "outputId": "3c3af380-1562-4af0-e13d-35cfa4136630"
      },
      "outputs": [
        {
          "output_type": "stream",
          "name": "stdout",
          "text": [
            "\u001b[?25l   \u001b[90m━━━━━━━━━━━━━━━━━━━━━━━━━━━━━━━━━━━━━━━━\u001b[0m \u001b[32m0.0/42.0 kB\u001b[0m \u001b[31m?\u001b[0m eta \u001b[36m-:--:--\u001b[0m\r\u001b[2K   \u001b[90m━━━━━━━━━━━━━━━━━━━━━━━━━━━━━━━━━━━━━━━━\u001b[0m \u001b[32m42.0/42.0 kB\u001b[0m \u001b[31m1.6 MB/s\u001b[0m eta \u001b[36m0:00:00\u001b[0m\n",
            "\u001b[?25h"
          ]
        }
      ],
      "source": [
        "!pip install -q --upgrade langchain langchain-google-genai google-generativeai"
      ]
    },
    {
      "cell_type": "markdown",
      "source": [
        "configuração das chaves que dão acesso aos modelos da IA do Google"
      ],
      "metadata": {
        "id": "yxJTr4tixzxW"
      }
    },
    {
      "cell_type": "code",
      "source": [
        "from google.colab import userdata\n",
        "from langchain_google_genai import ChatGoogleGenerativeAI\n",
        "\n",
        "GOOGLE_API_KEY = userdata.get('GEMINI_API_KEY')"
      ],
      "metadata": {
        "id": "lDYhf7I7ivBP"
      },
      "execution_count": null,
      "outputs": []
    },
    {
      "cell_type": "markdown",
      "source": [
        "conexão com o google gemini"
      ],
      "metadata": {
        "id": "Hb36xCjsyJ6x"
      }
    },
    {
      "cell_type": "code",
      "source": [
        "llm = ChatGoogleGenerativeAI(\n",
        "    model = \"gemini-2.5-flash\",\n",
        "    temperature=1,\n",
        "    api_key=GOOGLE_API_KEY\n",
        ")"
      ],
      "metadata": {
        "id": "mZdr6-j0maa9"
      },
      "execution_count": null,
      "outputs": []
    },
    {
      "cell_type": "code",
      "source": [
        "resposta_teste  = llm.invoke(\"Quem é você? Seja criativo\")\n",
        "print(resposta_teste.content)"
      ],
      "metadata": {
        "id": "VUUWYNmPyTAi"
      },
      "execution_count": null,
      "outputs": []
    },
    {
      "cell_type": "code",
      "source": [
        "FEEDBACK_ROUTER_PROMPT = (\n",
        "    \"Você é um Analista de Produto, especialista em interpretar a voz do cliente.\"\n",
        "    \"Seu objetivo é analisar o feedback de um usuário e direcioná-lo para a equipe correta para ação.\"\n",
        "    \"Analise o feedback e retorne SOMENTE um JSON com sua análise:\\n\"\n",
        "    \"{\\n\"\n",
        "    '  \"pensamento\": \"...\",\\n'\n",
        "    '  \"acao_sugerida\": \"ENVIAR_PARA_PRODUTO\" | \"ENVIAR_PARA_SUPORTE\" | \"ENVIAR_PARA_MARKETING\",\\n'\n",
        "    '  \"nivel_prioridade\": \"ALTA\" | \"MEDIA\" | \"BAIXA\",\\n'\n",
        "    '  \"dados_adicionais\": {\"tipo_feedback\": \"Sugestão de Feature | Relato de Bug | Elogio | Reclamação\"}\\n'\n",
        "    \"}\\n\\n\"\n",
        "    \"## Diretrizes de Decisão:\\n\"\n",
        "    \"1.  **ENVIAR_PARA_PRODUTO**: O feedback contém uma sugestão de nova funcionalidade ('seria legal se...'), ou uma crítica construtiva sobre o design/usabilidade.\\n\"\n",
        "    \"2.  **ENVIAR_PARA_SUPORTE**: O usuário está relatando um erro, um bug, ou algo que não está funcionando como esperado ('não consigo clicar no botão...'). Prioridade ALTA se impedir o uso.\\n\"\n",
        "    \"3.  **ENVIAR_PARA_MARKETING**: O usuário está fazendo um elogio sobre o produto, o que pode ser usado como um depoimento, ou está comparando o produto com concorrentes.\\n\"\n",
        ")"
      ],
      "metadata": {
        "id": "jtrVmxIy2kbp"
      },
      "execution_count": null,
      "outputs": []
    },
    {
      "cell_type": "markdown",
      "source": [
        "Bibliotecas que ajudam o output a ser mais estruturado"
      ],
      "metadata": {
        "id": "Eo28f6UF2UkN"
      }
    },
    {
      "cell_type": "code",
      "source": [
        "from pydantic import BaseModel, Field\n",
        "from typing import Literal, List, Dict\n",
        "\n",
        "class FeedbackOut(BaseModel):\n",
        "  acao_sugerida: Literal[\"ENVIAR_PARA_PRODUTO\" , \"ENVIAR_PARA_SUPORTE\" , \"ENVIAR_PARA_MARKETING\"]\n",
        "  nivel_prioridade: Literal[\"ALTA\" , \"MEDIA\" , \"BAIXA\"]\n",
        "  dados_adicionais: List[str] = Field(default_factory=list)"
      ],
      "metadata": {
        "id": "zTNYsDog2hXq"
      },
      "execution_count": null,
      "outputs": []
    },
    {
      "cell_type": "code",
      "source": [
        "llm_feedback = ChatGoogleGenerativeAI(\n",
        "    model = \"gemini-2.5-flash\",\n",
        "    temperature=0,\n",
        "    api_key=GOOGLE_API_KEY\n",
        ")"
      ],
      "metadata": {
        "id": "91I1UFgq-Zb6"
      },
      "execution_count": null,
      "outputs": []
    },
    {
      "cell_type": "markdown",
      "source": [
        "Bibliotecas do langchain pro modelo executar aquilo que a gente quer com a saída estruturada definida anteriormente"
      ],
      "metadata": {
        "id": "CoqJL12U-yoA"
      }
    },
    {
      "cell_type": "code",
      "source": [
        "from langchain_core.messages import SystemMessage, HumanMessage\n",
        "\n",
        "feedback_chain = llm_feedback.with_structured_output(FeedbackOut)\n",
        "\n",
        "def feedback(mensagem: str) -> Dict:\n",
        "  saida:FeedbackOut = feedback_chain.invoke([\n",
        "      SystemMessage(content=FEEDBACK_ROUTER_PROMPT),\n",
        "      HumanMessage(content=mensagem)\n",
        "  ])\n",
        "  return saida.model_dump()\n"
      ],
      "metadata": {
        "id": "itLi2O1o-yGX"
      },
      "execution_count": null,
      "outputs": []
    },
    {
      "cell_type": "code",
      "source": [
        "testes_feedback = [\n",
        "    # Categoria 1: Casos Diretos e Claros\n",
        "    \"Seria incrível se o app tivesse um modo escuro. Meus olhos agradeceriam!\",\n",
        "    \"Não consigo fazer o login. Clico no botão 'Entrar' e nada acontece.\",\n",
        "    \"Eu amo a nova atualização! O design ficou muito mais limpo e rápido. Parabéns para a equipe!\",\n",
        "\n",
        "    # Categoria 2: Casos Mistos e Ambíguos\n",
        "    \"O novo menu é muito confuso. Levei cinco minutos para encontrar a página de configurações. O antigo era melhor.\",\n",
        "    \"A funcionalidade de exportar relatórios é a melhor que já vi! Mas seria ainda mais perfeita se permitisse exportar para PDF também.\",\n",
        "    \"ESTOU FURIOSO! O app fechou sozinho no meio de um trabalho importante e perdi tudo. Isso é inaceitável!\",\n",
        "\n",
        "    # Categoria 3: Casos de Borda e Fora de Escopo\n",
        "    \"Não gostei.\",\n",
        "    \"Gostaria de saber por que minha fatura veio com um valor diferente este mês.\",\n",
        "    \"O app de vocês é bom, mas o Concorrente X tem uma função de colaboração em tempo real que é muito superior.\",\n",
        "    \"Qual é a previsão do tempo para amanhã?\",\n",
        "\n",
        "    \"O sistema não está aberto para a matrícula, qual o período de matrícula?\"\n",
        "]\n"
      ],
      "metadata": {
        "id": "deBpErNtCO3V"
      },
      "execution_count": null,
      "outputs": []
    },
    {
      "cell_type": "code",
      "source": [
        "for msg_teste in testes_feedback:\n",
        "  print(f\"Mensagem: {msg_teste}\\n -> Resposta: {feedback(msg_teste)}\\n\")"
      ],
      "metadata": {
        "colab": {
          "base_uri": "https://localhost:8080/"
        },
        "id": "btDBd-7UZPVW",
        "outputId": "c5576008-132f-48af-9584-ac51a61c2179"
      },
      "execution_count": null,
      "outputs": [
        {
          "output_type": "stream",
          "name": "stdout",
          "text": [
            "Mensagem: Seria incrível se o app tivesse um modo escuro. Meus olhos agradeceriam!\n",
            " -> Resposta: {'acao_sugerida': 'ENVIAR_PARA_PRODUTO', 'nivel_prioridade': 'MEDIA', 'dados_adicionais': ['tipo_feedback: Sugestão de Feature']}\n",
            "\n",
            "Mensagem: Não consigo fazer o login. Clico no botão 'Entrar' e nada acontece.\n",
            " -> Resposta: {'acao_sugerida': 'ENVIAR_PARA_SUPORTE', 'nivel_prioridade': 'ALTA', 'dados_adicionais': ['tipo_feedback: Relato de Bug']}\n",
            "\n",
            "Mensagem: Eu amo a nova atualização! O design ficou muito mais limpo e rápido. Parabéns para a equipe!\n",
            " -> Resposta: {'acao_sugerida': 'ENVIAR_PARA_MARKETING', 'nivel_prioridade': 'BAIXA', 'dados_adicionais': ['{\"tipo_feedback\": \"Elogio\"}']}\n",
            "\n",
            "Mensagem: O novo menu é muito confuso. Levei cinco minutos para encontrar a página de configurações. O antigo era melhor.\n",
            " -> Resposta: {'acao_sugerida': 'ENVIAR_PARA_PRODUTO', 'nivel_prioridade': 'MEDIA', 'dados_adicionais': ['tipo_feedback: Reclamação']}\n",
            "\n",
            "Mensagem: A funcionalidade de exportar relatórios é a melhor que já vi! Mas seria ainda mais perfeita se permitisse exportar para PDF também.\n",
            " -> Resposta: {'acao_sugerida': 'ENVIAR_PARA_PRODUTO', 'nivel_prioridade': 'MEDIA', 'dados_adicionais': ['tipo_feedback: Sugestão de Feature']}\n",
            "\n",
            "Mensagem: ESTOU FURIOSO! O app fechou sozinho no meio de um trabalho importante e perdi tudo. Isso é inaceitável!\n",
            " -> Resposta: {'acao_sugerida': 'ENVIAR_PARA_SUPORTE', 'nivel_prioridade': 'ALTA', 'dados_adicionais': ['tipo_feedback: Relato de Bug']}\n",
            "\n",
            "Mensagem: Não gostei.\n",
            " -> Resposta: {'acao_sugerida': 'ENVIAR_PARA_PRODUTO', 'nivel_prioridade': 'BAIXA', 'dados_adicionais': ['tipo_feedback: Reclamação']}\n",
            "\n",
            "Mensagem: Gostaria de saber por que minha fatura veio com um valor diferente este mês.\n",
            " -> Resposta: {'acao_sugerida': 'ENVIAR_PARA_SUPORTE', 'nivel_prioridade': 'ALTA', 'dados_adicionais': ['tipo_feedback: Reclamação']}\n",
            "\n",
            "Mensagem: O app de vocês é bom, mas o Concorrente X tem uma função de colaboração em tempo real que é muito superior.\n",
            " -> Resposta: {'acao_sugerida': 'ENVIAR_PARA_PRODUTO', 'nivel_prioridade': 'ALTA', 'dados_adicionais': ['Elogio', 'Sugestão de Feature', 'Reclamação']}\n",
            "\n",
            "Mensagem: Qual é a previsão do tempo para amanhã?\n",
            " -> Resposta: {'acao_sugerida': 'ENVIAR_PARA_SUPORTE', 'nivel_prioridade': 'BAIXA', 'dados_adicionais': ['tipo_feedback: Pergunta não relacionada ao produto']}\n",
            "\n",
            "Mensagem: O sistema não está aberto para a matrícula, qual o período de matrícula?\n",
            " -> Resposta: {'acao_sugerida': 'ENVIAR_PARA_SUPORTE', 'nivel_prioridade': 'ALTA', 'dados_adicionais': ['tipo_feedback: Relato de Bug']}\n",
            "\n"
          ]
        }
      ]
    }
  ]
}