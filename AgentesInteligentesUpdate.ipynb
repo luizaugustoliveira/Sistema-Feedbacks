{
  "nbformat": 4,
  "nbformat_minor": 0,
  "metadata": {
    "colab": {
      "provenance": []
    },
    "kernelspec": {
      "name": "python3",
      "display_name": "Python 3"
    },
    "language_info": {
      "name": "python"
    }
  },
  "cells": [
    {
      "cell_type": "markdown",
      "source": [
        "instalação do orquestrador de agentes que é o langchain"
      ],
      "metadata": {
        "id": "m3oh9xmJxpTu"
      }
    },
    {
      "cell_type": "code",
      "execution_count": 1,
      "metadata": {
        "id": "8y3U1VoogBJT"
      },
      "outputs": [],
      "source": [
        "!pip install -q --upgrade langchain langchain-google-genai google-generativeai"
      ]
    },
    {
      "cell_type": "markdown",
      "source": [
        "configuração das chaves que dão acesso aos modelos da IA do Google"
      ],
      "metadata": {
        "id": "yxJTr4tixzxW"
      }
    },
    {
      "cell_type": "code",
      "source": [
        "from google.colab import userdata\n",
        "from langchain_google_genai import ChatGoogleGenerativeAI\n",
        "\n",
        "GOOGLE_API_KEY = userdata.get('GEMINI_API_KEY')"
      ],
      "metadata": {
        "id": "lDYhf7I7ivBP"
      },
      "execution_count": 2,
      "outputs": []
    },
    {
      "cell_type": "markdown",
      "source": [
        "conexão com o google gemini"
      ],
      "metadata": {
        "id": "Hb36xCjsyJ6x"
      }
    },
    {
      "cell_type": "code",
      "source": [
        "llm = ChatGoogleGenerativeAI(\n",
        "    model = \"gemini-2.5-flash\",\n",
        "    temperature=1,\n",
        "    api_key=GOOGLE_API_KEY\n",
        ")"
      ],
      "metadata": {
        "id": "mZdr6-j0maa9"
      },
      "execution_count": 3,
      "outputs": []
    },
    {
      "cell_type": "code",
      "source": [
        "# resposta_teste  = llm.invoke(\"Quem é você? Seja criativo\")\n",
        "# print(resposta_teste.content)"
      ],
      "metadata": {
        "id": "VUUWYNmPyTAi"
      },
      "execution_count": 4,
      "outputs": []
    },
    {
      "cell_type": "code",
      "source": [
        "FEEDBACK_ROUTER_PROMPT = (\n",
        "    \"Você é um Analista de Produto, especialista em interpretar a voz do cliente.\"\n",
        "    \"Seu objetivo é analisar o feedback de um usuário e direcioná-lo para a equipe correta para ação.\"\n",
        "    \"Analise o feedback e retorne SOMENTE um JSON com sua análise:\\n\"\n",
        "    \"{\\n\"\n",
        "    '  \"pensamento\": \"...\",\\n'\n",
        "    '  \"acao_sugerida\": \"ENVIAR_PARA_PRODUTO\" | \"ENVIAR_PARA_SUPORTE\" | \"ENVIAR_PARA_MARKETING\" | \"PEDIR_INFO\" | \"ABRIR_CHAMADO\",\\n'\n",
        "    '  \"nivel_prioridade\": \"ALTA\" | \"MEDIA\" | \"BAIXA\",\\n'\n",
        "    '  \"dados_adicionais\": {\"tipo_feedback\": \"Sugestão de Feature | Relato de Bug | Elogio | Reclamação\"}\\n'\n",
        "    '  \"campos_faltantes\": [\"...\"]\\n'\n",
        "    \"}\\n\\n\"\n",
        "    \"## Diretrizes de Decisão:\\n\"\n",
        "    \"- **ENVIAR_PARA_PRODUTO**: O feedback contém uma sugestão de nova funcionalidade ('seria legal se...'), ou uma crítica construtiva sobre o design/usabilidade.\\n\"\n",
        "    \"- **ENVIAR_PARA_SUPORTE**: O usuário está relatando um erro, um bug, ou algo que não está funcionando como esperado ('não consigo clicar no botão...'). Prioridade ALTA se impedir o uso.\\n\"\n",
        "    \"- **ENVIAR_PARA_MARKETING**: O usuário está fazendo um elogio sobre o produto, o que pode ser usado como um depoimento, ou está comparando o produto com concorrentes.\\n\"\n",
        "    '- **PEDIR_INFO**: Mensagens vagas ou que faltam informações para identificar o tema ou contexto (Ex: \"Preciso de ajuda com uma política\", \"Tenho uma dúvida geral\").\\n'\n",
        "    '- **ABRIR_CHAMADO**: Pedidos de exceção, liberação, aprovação ou acesso especial, ou quando o usuário explicitamente pede para abrir um chamado (Ex: \"Quero exceção para trabalhar 5 dias remoto.\", \"Solicito liberação para anexos externos.\", \"Por favor, abra um chamado para o RH.\").'\n",
        "    \"Analise a mensagem e decida a ação mais apropriada.\"\n",
        ")"
      ],
      "metadata": {
        "id": "jtrVmxIy2kbp"
      },
      "execution_count": 5,
      "outputs": []
    },
    {
      "cell_type": "markdown",
      "source": [
        "Bibliotecas que ajudam o output a ser mais estruturado"
      ],
      "metadata": {
        "id": "Eo28f6UF2UkN"
      }
    },
    {
      "cell_type": "code",
      "source": [
        "from pydantic import BaseModel, Field\n",
        "from typing import Literal, List, Dict\n",
        "\n",
        "class FeedbackOut(BaseModel):\n",
        "  acao_sugerida: Literal[\"ENVIAR_PARA_PRODUTO\" , \"ENVIAR_PARA_SUPORTE\" , \"ENVIAR_PARA_MARKETING\", \"PEDIR_INFO\", \"ABRIR_CHAMADO\"]\n",
        "  nivel_prioridade: Literal[\"ALTA\" , \"MEDIA\" , \"BAIXA\"]\n",
        "  dados_adicionais: List[str] = Field(default_factory=list)"
      ],
      "metadata": {
        "id": "zTNYsDog2hXq"
      },
      "execution_count": 6,
      "outputs": []
    },
    {
      "cell_type": "code",
      "source": [
        "llm_feedback = ChatGoogleGenerativeAI(\n",
        "    model = \"gemini-2.5-flash\",\n",
        "    temperature=0,\n",
        "    api_key=GOOGLE_API_KEY\n",
        ")"
      ],
      "metadata": {
        "id": "91I1UFgq-Zb6"
      },
      "execution_count": 7,
      "outputs": []
    },
    {
      "cell_type": "markdown",
      "source": [
        "Bibliotecas do langchain pro modelo executar aquilo que a gente quer com a saída estruturada definida anteriormente"
      ],
      "metadata": {
        "id": "CoqJL12U-yoA"
      }
    },
    {
      "cell_type": "code",
      "source": [
        "from langchain_core.messages import SystemMessage, HumanMessage\n",
        "\n",
        "feedback_chain = llm_feedback.with_structured_output(FeedbackOut)\n",
        "\n",
        "def feedback(mensagem: str) -> Dict:\n",
        "  saida:FeedbackOut = feedback_chain.invoke([\n",
        "      SystemMessage(content=FEEDBACK_ROUTER_PROMPT),\n",
        "      HumanMessage(content=mensagem)\n",
        "  ])\n",
        "  return saida.model_dump()\n"
      ],
      "metadata": {
        "id": "itLi2O1o-yGX"
      },
      "execution_count": 8,
      "outputs": []
    },
    {
      "cell_type": "code",
      "source": [
        "testes_feedback = [\n",
        "    \"Não estou conseguindo fazer login no sistema\",\n",
        "    \"Seria bom se o app tivesse um tema escuro\",\n",
        "    \"O novo design do app ficou sensacional\",\n",
        "    \"O céu é azul e quem é você ?\"\n",
        "]\n"
      ],
      "metadata": {
        "id": "deBpErNtCO3V"
      },
      "execution_count": 9,
      "outputs": []
    },
    {
      "cell_type": "code",
      "source": [
        "for msg_teste in testes_feedback:\n",
        "  print(f\"Mensagem: {msg_teste}\\n -> Resposta: {feedback(msg_teste)}\\n\")"
      ],
      "metadata": {
        "id": "btDBd-7UZPVW",
        "colab": {
          "base_uri": "https://localhost:8080/"
        },
        "outputId": "a21ae20f-a2e8-45bc-971c-c9622cab7855"
      },
      "execution_count": 10,
      "outputs": [
        {
          "output_type": "stream",
          "name": "stdout",
          "text": [
            "Mensagem: Não estou conseguindo fazer login no sistema\n",
            " -> Resposta: {'acao_sugerida': 'ENVIAR_PARA_SUPORTE', 'nivel_prioridade': 'ALTA', 'dados_adicionais': ['Relato de Bug']}\n",
            "\n",
            "Mensagem: Seria bom se o app tivesse um tema escuro\n",
            " -> Resposta: {'acao_sugerida': 'ENVIAR_PARA_PRODUTO', 'nivel_prioridade': 'MEDIA', 'dados_adicionais': ['Sugestão de Feature']}\n",
            "\n",
            "Mensagem: O novo design do app ficou sensacional\n",
            " -> Resposta: {'acao_sugerida': 'ENVIAR_PARA_MARKETING', 'nivel_prioridade': 'BAIXA', 'dados_adicionais': ['{\"tipo_feedback\": \"Elogio\"}']}\n",
            "\n",
            "Mensagem: O céu é azul e quem é você ?\n",
            " -> Resposta: {'acao_sugerida': 'PEDIR_INFO', 'nivel_prioridade': 'BAIXA', 'dados_adicionais': []}\n",
            "\n"
          ]
        }
      ]
    },
    {
      "cell_type": "markdown",
      "source": [
        "Conexões com a leitura de documentos em pdf"
      ],
      "metadata": {
        "id": "F9cFTA3UqMPm"
      }
    },
    {
      "cell_type": "code",
      "source": [
        "!pip install -q --upgrade langchain_community faiss-cpu langchain-text-splitters pymupdf"
      ],
      "metadata": {
        "id": "A2G6aNBGqQif"
      },
      "execution_count": 11,
      "outputs": []
    },
    {
      "cell_type": "markdown",
      "source": [
        "Salvar os pdfs numa lista"
      ],
      "metadata": {
        "id": "fL9vNrUcz3-9"
      }
    },
    {
      "cell_type": "code",
      "source": [
        "from pathlib import Path\n",
        "from langchain_community.document_loaders import PyMuPDFLoader\n",
        "\n",
        "docs = []\n",
        "\n",
        "for n in Path(\"/content/\").glob(\"*.pdf\"):\n",
        "    try:\n",
        "        loader = PyMuPDFLoader(str(n))\n",
        "        docs.extend(loader.load())\n",
        "        print(f\"Carregado com sucesso arquivo {n.name}\")\n",
        "    except Exception as e:\n",
        "        print(f\"Erro ao carregar arquivo {n.name}: {e}\")\n",
        "\n",
        "print(f\"Total de documentos carregados: {len(docs)}\")"
      ],
      "metadata": {
        "colab": {
          "base_uri": "https://localhost:8080/"
        },
        "id": "sgyQsspO0qHf",
        "outputId": "5436f0ed-3151-440c-80b7-53b367bde3be"
      },
      "execution_count": 12,
      "outputs": [
        {
          "output_type": "stream",
          "name": "stdout",
          "text": [
            "Carregado com sucesso arquivo manual_usuario_feedback_app_v1.2.pdf\n",
            "Carregado com sucesso arquivo politica_interna_de_feedback_v2.pdf\n",
            "Carregado com sucesso arquivo roadmap_produto_q4_2025.pdf\n",
            "Total de documentos carregados: 6\n"
          ]
        }
      ]
    },
    {
      "cell_type": "code",
      "source": [
        "from langchain_text_splitters import RecursiveCharacterTextSplitter\n",
        "\n",
        "splitter = RecursiveCharacterTextSplitter(chunk_size=1000, chunk_overlap=150)\n",
        "\n",
        "chunks = splitter.split_documents(docs)"
      ],
      "metadata": {
        "id": "I7-9ByxR4BVp"
      },
      "execution_count": 13,
      "outputs": []
    },
    {
      "cell_type": "code",
      "source": [
        "for chunk in chunks:\n",
        "    print(chunk)\n",
        "    print(\"------------------------------------\")"
      ],
      "metadata": {
        "colab": {
          "base_uri": "https://localhost:8080/"
        },
        "id": "bIRj6lDK59Wg",
        "outputId": "784c80cd-dd3c-4c7b-c200-d4f7ee5a4c92"
      },
      "execution_count": 14,
      "outputs": [
        {
          "output_type": "stream",
          "name": "stdout",
          "text": [
            "page_content='Manual do Usuário – FeedbackApp v1.2 \n",
            "Última atualização: 12 de setembro de 2025 \n",
            "1. Bem-vindo ao FeedbackApp! \n",
            "Bem-vindo à documentação oficial do FeedbackApp, sua plataforma central para coletar, \n",
            "analisar e agir sobre o feedback de seus clientes. Este manual detalha todas as \n",
            "funcionalidades disponíveis na versão 1.2. \n",
            "2. Primeiros Passos \n",
            "2.1. Criando sua Conta e Fazendo Login \n",
            "O acesso à plataforma é realizado através de um e-mail e senha cadastrados. Atualmente, não \n",
            "oferecemos suporte para login via redes sociais (Google, Microsoft). Caso tenha esquecido sua \n",
            "senha, utilize o link \"Esqueci minha senha\" disponível na página de login para iniciar o processo \n",
            "de recuperação. \n",
            "2.2. Conhecendo o Dashboard Principal \n",
            "Ao fazer login, você será apresentado ao Dashboard de Análise. Ele oferece uma visão geral e \n",
            "em tempo real da satisfação do seu cliente, com os seguintes componentes: \n",
            "●​ Volume de Feedbacks: Gráfico mostrando o número de feedbacks recebidos nos \n",
            "últimos 30 dias.' metadata={'producer': 'Skia/PDF m142 Google Docs Renderer', 'creator': '', 'creationdate': '', 'source': '/content/manual_usuario_feedback_app_v1.2.pdf', 'file_path': '/content/manual_usuario_feedback_app_v1.2.pdf', 'total_pages': 2, 'format': 'PDF 1.4', 'title': 'manual_usuario_feedback_app_v1.2', 'author': '', 'subject': '', 'keywords': '', 'moddate': '', 'trapped': '', 'modDate': '', 'creationDate': '', 'page': 0}\n",
            "------------------------------------\n",
            "page_content='●​ Volume de Feedbacks: Gráfico mostrando o número de feedbacks recebidos nos \n",
            "últimos 30 dias. \n",
            "●​ Análise de Sentimento: Um gráfico de pizza que classifica todos os feedbacks em \n",
            "Positivo, Neutro ou Negativo. \n",
            "●​ Feedbacks Recentes: Uma lista com os 5 feedbacks mais recentes que chegaram na \n",
            "plataforma. \n",
            "3. Funcionalidades Detalhadas \n",
            "3.1. Gerenciando Feedbacks \n",
            "Na aba \"Feedbacks\", você pode visualizar todas as submissões dos seus clientes. \n",
            "●​ Filtragem: Utilize os filtros no topo da página para buscar por data, sentimento ou tags \n",
            "personalizadas.' metadata={'producer': 'Skia/PDF m142 Google Docs Renderer', 'creator': '', 'creationdate': '', 'source': '/content/manual_usuario_feedback_app_v1.2.pdf', 'file_path': '/content/manual_usuario_feedback_app_v1.2.pdf', 'total_pages': 2, 'format': 'PDF 1.4', 'title': 'manual_usuario_feedback_app_v1.2', 'author': '', 'subject': '', 'keywords': '', 'moddate': '', 'trapped': '', 'modDate': '', 'creationDate': '', 'page': 0}\n",
            "------------------------------------\n",
            "page_content='●​ Tags: Organize seus feedbacks aplicando tags (ex: ux-melhoria, bug-critico, \n",
            "mobile-app). \n",
            "3.2. Exportação de Relatórios \n",
            "O FeedbackApp permite que você exporte dados para análises externas. \n",
            "1.​ Navegue até a seção \"Relatórios\" no menu lateral. \n",
            "2.​ Selecione o intervalo de datas e os filtros desejados (ex: exportar apenas feedbacks \n",
            "com sentimento negativo). \n",
            "3.​ Clique no botão \"Gerar Relatório\". \n",
            "4.​ O relatório será gerado e baixado automaticamente no formato CSV. \n",
            "5.​ Limitação conhecida: A exportação direta para os formatos PDF ou XLSX ainda não é \n",
            "suportada nesta versão. \n",
            "4. Solução de Problemas (FAQ) \n",
            "●​ P: O botão 'Entrar' não funciona. O que eu faço? \n",
            "○​ R: Por favor, tente limpar o cache do seu navegador e recarregar a página. Se o \n",
            "problema persistir, verifique sua conexão com a internet. Este problema às vezes \n",
            "ocorre em versões desatualizadas do navegador. \n",
            "●​ P: Como posso sugerir uma nova funcionalidade?' metadata={'producer': 'Skia/PDF m142 Google Docs Renderer', 'creator': '', 'creationdate': '', 'source': '/content/manual_usuario_feedback_app_v1.2.pdf', 'file_path': '/content/manual_usuario_feedback_app_v1.2.pdf', 'total_pages': 2, 'format': 'PDF 1.4', 'title': 'manual_usuario_feedback_app_v1.2', 'author': '', 'subject': '', 'keywords': '', 'moddate': '', 'trapped': '', 'modDate': '', 'creationDate': '', 'page': 1}\n",
            "------------------------------------\n",
            "page_content='ocorre em versões desatualizadas do navegador. \n",
            "●​ P: Como posso sugerir uma nova funcionalidade? \n",
            "○​ R: Você pode enviar qualquer sugestão usando o próprio formulário de feedback \n",
            "da sua empresa. Todas as sugestões são lidas e analisadas pela nossa equipe \n",
            "de produto.' metadata={'producer': 'Skia/PDF m142 Google Docs Renderer', 'creator': '', 'creationdate': '', 'source': '/content/manual_usuario_feedback_app_v1.2.pdf', 'file_path': '/content/manual_usuario_feedback_app_v1.2.pdf', 'total_pages': 2, 'format': 'PDF 1.4', 'title': 'manual_usuario_feedback_app_v1.2', 'author': '', 'subject': '', 'keywords': '', 'moddate': '', 'trapped': '', 'modDate': '', 'creationDate': '', 'page': 1}\n",
            "------------------------------------\n",
            "page_content='Política Interna de Análise de Feedback – \n",
            "Versão 2.0 \n",
            "Documento de uso interno. Confidencial. \n",
            "1. Propósito e Escopo \n",
            "Este documento estabelece o processo padrão para a triagem, classificação e tratamento de \n",
            "todos os feedbacks de clientes recebidos através da plataforma FeedbackApp. O objetivo é \n",
            "garantir consistência, agilidade e qualidade no tratamento da voz do cliente. \n",
            "2. Definições e Classificações \n",
            "Todo feedback recebido deve ser classificado em uma das seguintes categorias: \n",
            "●​ Sugestão de Feature: Pedidos de novas funcionalidades ou melhorias significativas em \n",
            "funcionalidades existentes. \n",
            "●​ Relato de Bug: Comportamento inesperado, erro, falha ou quebra de uma \n",
            "funcionalidade existente. \n",
            "○​ Bug Crítico: Impede o uso de uma funcionalidade principal (ex: login, \n",
            "exportação), causa perda de dados ou representa uma falha de segurança. \n",
            "○​ Bug Moderado: Afeta uma funcionalidade não essencial ou causa uma \n",
            "experiência de usuário degradada, mas não impeditiva.' metadata={'producer': 'Skia/PDF m142 Google Docs Renderer', 'creator': '', 'creationdate': '', 'source': '/content/politica_interna_de_feedback_v2.pdf', 'file_path': '/content/politica_interna_de_feedback_v2.pdf', 'total_pages': 2, 'format': 'PDF 1.4', 'title': 'politica_interna_de_feedback_v2', 'author': '', 'subject': '', 'keywords': '', 'moddate': '', 'trapped': '', 'modDate': '', 'creationDate': '', 'page': 0}\n",
            "------------------------------------\n",
            "page_content='○​ Bug Moderado: Afeta uma funcionalidade não essencial ou causa uma \n",
            "experiência de usuário degradada, mas não impeditiva. \n",
            "●​ Elogio / Depoimento: Feedback positivo sobre o produto, design, ou atendimento. \n",
            "●​ Reclamação de Usabilidade (UX): Críticas sobre a dificuldade de uso, design confuso, \n",
            "ou fluxos de trabalho pouco intuitivos. Não é um bug, mas uma falha de design. \n",
            "3. Fluxo de Trabalho Padrão e SLAs (Acordos de Nível de \n",
            "Serviço) \n",
            "1.​ Entrada: Todo feedback é recebido na plataforma. \n",
            "2.​ Triagem (Realizada pela IA): A IA classifica o feedback e o direciona para a equipe \n",
            "apropriada. \n",
            "3.​ Ação Humana: A equipe responsável assume o ticket. \n",
            "Categoria do Feedback \n",
            "Equipe \n",
            "Responsável \n",
            "SLA de Primeira Resposta \n",
            "(Humana)' metadata={'producer': 'Skia/PDF m142 Google Docs Renderer', 'creator': '', 'creationdate': '', 'source': '/content/politica_interna_de_feedback_v2.pdf', 'file_path': '/content/politica_interna_de_feedback_v2.pdf', 'total_pages': 2, 'format': 'PDF 1.4', 'title': 'politica_interna_de_feedback_v2', 'author': '', 'subject': '', 'keywords': '', 'moddate': '', 'trapped': '', 'modDate': '', 'creationDate': '', 'page': 0}\n",
            "------------------------------------\n",
            "page_content='Relato de Bug (Crítico) \n",
            "Suporte Técnico \n",
            "4 horas úteis \n",
            "Relato de Bug (Moderado) \n",
            "Suporte Técnico \n",
            "12 horas úteis \n",
            "Sugestão de Feature \n",
            "Produto \n",
            "48 horas úteis \n",
            "Reclamação de \n",
            "Usabilidade \n",
            "Produto / Design \n",
            "24 horas úteis \n",
            "Elogio / Depoimento \n",
            "Marketing \n",
            "72 horas úteis \n",
            "Exportar para as Planilhas \n",
            "4. Requisitos para Relato de Bugs \n",
            "Para que um relato de bug seja investigado pela equipe de Suporte, ele deve conter as \n",
            "seguintes informações mínimas. Se um usuário não fornecer esses dados, o agente de suporte \n",
            "(humano ou IA) deve solicitá-los: \n",
            "●​ Descrição do Problema: O que aconteceu? \n",
            "●​ Passos para Reproduzir: O que você fez para o erro acontecer? \n",
            "●​ Resultado Esperado vs. Real: O que deveria ter acontecido vs. o que aconteceu. \n",
            "●​ Informações de Ambiente: Versão do App, Sistema Operacional e Navegador.' metadata={'producer': 'Skia/PDF m142 Google Docs Renderer', 'creator': '', 'creationdate': '', 'source': '/content/politica_interna_de_feedback_v2.pdf', 'file_path': '/content/politica_interna_de_feedback_v2.pdf', 'total_pages': 2, 'format': 'PDF 1.4', 'title': 'politica_interna_de_feedback_v2', 'author': '', 'subject': '', 'keywords': '', 'moddate': '', 'trapped': '', 'modDate': '', 'creationDate': '', 'page': 1}\n",
            "------------------------------------\n",
            "page_content='Roadmap do Produto – Q4 2025 (Visão \n",
            "Pública) \n",
            "Status em: 01 de Setembro de 2025 \n",
            "Nossa Visão para o Final do Ano \n",
            "Nosso foco para o último trimestre de 2025 é aprimorar a experiência do usuário e expandir as \n",
            "capacidades de integração da plataforma FeedbackApp. \n",
            " \n",
            "🚀 Em Desenvolvimento \n",
            "Funcionalidades que nossa equipe está construindo ativamente. \n",
            "1. Modo Escuro (Dark Mode) \n",
            "●​ Problema Alvo: Reduzir o cansaço visual para usuários que trabalham em ambientes \n",
            "com pouca luz ou durante longos períodos. \n",
            "●​ Métricas de Sucesso: Adoção da funcionalidade por pelo menos 40% dos usuários \n",
            "ativos no primeiro mês. \n",
            "●​ Status: Em Desenvolvimento Avançado. \n",
            "●​ Previsão de Lançamento: Novembro de 2025. \n",
            "2. Integração com Slack \n",
            "●​ Problema Alvo: Permitir que as equipes recebam notificações de novos feedbacks \n",
            "diretamente em seus canais de trabalho, agilizando o tempo de resposta. \n",
            "●​ Métricas de Sucesso: Pelo menos 25% dos times clientes ativando a integração. \n",
            "●​ Status: Em Planejamento Técnico.' metadata={'producer': 'Skia/PDF m142 Google Docs Renderer', 'creator': '', 'creationdate': '', 'source': '/content/roadmap_produto_q4_2025.pdf', 'file_path': '/content/roadmap_produto_q4_2025.pdf', 'total_pages': 2, 'format': 'PDF 1.4', 'title': 'roadmap_produto_q4_2025', 'author': '', 'subject': '', 'keywords': '', 'moddate': '', 'trapped': '', 'modDate': '', 'creationDate': '', 'page': 0}\n",
            "------------------------------------\n",
            "page_content='●​ Métricas de Sucesso: Pelo menos 25% dos times clientes ativando a integração. \n",
            "●​ Status: Em Planejamento Técnico. \n",
            "●​ Previsão de Lançamento: Final de Dezembro de 2025. \n",
            " \n",
            "🤔 Em Análise \n",
            "Funcionalidades que estamos pesquisando e considerando para o futuro (início de 2026).' metadata={'producer': 'Skia/PDF m142 Google Docs Renderer', 'creator': '', 'creationdate': '', 'source': '/content/roadmap_produto_q4_2025.pdf', 'file_path': '/content/roadmap_produto_q4_2025.pdf', 'total_pages': 2, 'format': 'PDF 1.4', 'title': 'roadmap_produto_q4_2025', 'author': '', 'subject': '', 'keywords': '', 'moddate': '', 'trapped': '', 'modDate': '', 'creationDate': '', 'page': 0}\n",
            "------------------------------------\n",
            "page_content='●​ Exportação de Relatórios para PDF: Estamos avaliando a demanda e a complexidade \n",
            "técnica para gerar relatórios visualmente ricos em formato PDF. \n",
            "●​ Login Social (Google & Microsoft): Analisando os requisitos de segurança e \n",
            "implementação para oferecer mais opções de login. \n",
            " \n",
            "❌ Não Priorizado no Momento \n",
            "Funcionalidades que foram sugeridas mas que não estão alinhadas com nossa estratégia atual. \n",
            "●​ Aplicativo Mobile Nativo (iOS/Android): No momento, nosso foco é aprimorar a \n",
            "experiência na web, que já é totalmente responsiva para dispositivos móveis. \n",
            "●​ Gamificação: Elementos de jogos para engajamento não são uma prioridade para \n",
            "nosso público-alvo principal.' metadata={'producer': 'Skia/PDF m142 Google Docs Renderer', 'creator': '', 'creationdate': '', 'source': '/content/roadmap_produto_q4_2025.pdf', 'file_path': '/content/roadmap_produto_q4_2025.pdf', 'total_pages': 2, 'format': 'PDF 1.4', 'title': 'roadmap_produto_q4_2025', 'author': '', 'subject': '', 'keywords': '', 'moddate': '', 'trapped': '', 'modDate': '', 'creationDate': '', 'page': 1}\n",
            "------------------------------------\n"
          ]
        }
      ]
    },
    {
      "cell_type": "code",
      "source": [
        "from langchain_google_genai import GoogleGenerativeAIEmbeddings\n",
        "\n",
        "embeddings = GoogleGenerativeAIEmbeddings(\n",
        "    model=\"models/gemini-embedding-001\",\n",
        "    google_api_key=GOOGLE_API_KEY\n",
        ")"
      ],
      "metadata": {
        "id": "3QI2LbDy85mj"
      },
      "execution_count": 15,
      "outputs": []
    },
    {
      "cell_type": "code",
      "source": [
        "from langchain_community.vectorstores import FAISS\n",
        "\n",
        "vectorstore = FAISS.from_documents(chunks, embeddings)\n",
        "\n",
        "retriever = vectorstore.as_retriever(search_type=\"similarity_score_threshold\",\n",
        "                                     search_kwargs={\"score_threshold\":0.3, \"k\": 4})"
      ],
      "metadata": {
        "id": "Ue28KBO689HR"
      },
      "execution_count": 16,
      "outputs": []
    },
    {
      "cell_type": "code",
      "source": [
        "from langchain_core.prompts import ChatPromptTemplate\n",
        "from langchain.chains.combine_documents import create_stuff_documents_chain\n",
        "\n",
        "prompt_rag = ChatPromptTemplate.from_messages([\n",
        "    (\"system\",\n",
        "     \"Você é um Assistente de um produto que funciona como uma plataforma central para coletar, analisar e agir sobre o feedback de seus clientes. \"\n",
        "     \"Responda SOMENTE com base no contexto fornecido. \"\n",
        "     \"Se não houver base suficiente, responda apenas 'Não sei'.\"),\n",
        "\n",
        "    (\"human\", \"Pergunta: {input}\\n\\nContexto:\\n{context}\")\n",
        "])\n",
        "\n",
        "document_chain = create_stuff_documents_chain(llm_feedback, prompt_rag)"
      ],
      "metadata": {
        "id": "_rnNc4tc9BKI"
      },
      "execution_count": 17,
      "outputs": []
    },
    {
      "cell_type": "code",
      "source": [
        "# Formatadores\n",
        "import re, pathlib\n",
        "\n",
        "def _clean_text(s: str) -> str:\n",
        "    return re.sub(r\"\\s+\", \" \", s or \"\").strip()\n",
        "\n",
        "def extrair_trecho(texto: str, query: str, janela: int = 240) -> str:\n",
        "    txt = _clean_text(texto)\n",
        "    termos = [t.lower() for t in re.findall(r\"\\w+\", query or \"\") if len(t) >= 4]\n",
        "    pos = -1\n",
        "    for t in termos:\n",
        "        pos = txt.lower().find(t)\n",
        "        if pos != -1: break\n",
        "    if pos == -1: pos = 0\n",
        "    ini, fim = max(0, pos - janela//2), min(len(txt), pos + janela//2)\n",
        "    return txt[ini:fim]\n",
        "\n",
        "def formatar_citacoes(docs_rel: List, query: str) -> List[Dict]:\n",
        "    cites, seen = [], set()\n",
        "    for d in docs_rel:\n",
        "        src = pathlib.Path(d.metadata.get(\"source\",\"\")).name\n",
        "        page = int(d.metadata.get(\"page\", 0)) + 1\n",
        "        key = (src, page)\n",
        "        if key in seen:\n",
        "            continue\n",
        "        seen.add(key)\n",
        "        cites.append({\"documento\": src, \"pagina\": page, \"trecho\": extrair_trecho(d.page_content, query)})\n",
        "    return cites[:3]"
      ],
      "metadata": {
        "id": "_EdGFt6bE6q_"
      },
      "execution_count": 18,
      "outputs": []
    },
    {
      "cell_type": "code",
      "source": [
        "def perguntar_politica_RAG(pergunta: str) -> Dict:\n",
        "    docs_relacionados = retriever.invoke(pergunta)\n",
        "\n",
        "    if not docs_relacionados:\n",
        "        return {\"answer\": \"Não sei.\",\n",
        "                \"citacoes\": [],\n",
        "                \"contexto_encontrado\": False}\n",
        "\n",
        "    answer = document_chain.invoke({\"input\": pergunta,\n",
        "                                    \"context\": docs_relacionados})\n",
        "\n",
        "    txt = (answer or \"\").strip()\n",
        "\n",
        "    if txt.rstrip(\".!?\") == \"Não sei\":\n",
        "        return {\"answer\": \"Não sei.\",\n",
        "                \"citacoes\": [],\n",
        "                \"contexto_encontrado\": False}\n",
        "\n",
        "    return {\"answer\": txt,\n",
        "            \"citacoes\": formatar_citacoes(docs_relacionados, pergunta),\n",
        "            \"contexto_encontrado\": True}"
      ],
      "metadata": {
        "id": "XtwuGj-sCvZr"
      },
      "execution_count": 19,
      "outputs": []
    },
    {
      "cell_type": "code",
      "source": [
        "testes = [\"Como acessar o aplicativo ?\",\n",
        "          \"Quero relatar um problema que enfrentei usando o produto. Como faço?\",\n",
        "          \"Quem eu posso contatar pra tirar uma dúvida?\",\n",
        "          \"Se o céu é azul, quem é você?\"]"
      ],
      "metadata": {
        "id": "vQmfTdX_DKF5"
      },
      "execution_count": 20,
      "outputs": []
    },
    {
      "cell_type": "code",
      "source": [
        "for msg_teste in testes:\n",
        "    resposta = perguntar_politica_RAG(msg_teste)\n",
        "    print(f\"PERGUNTA: {msg_teste}\")\n",
        "    print(f\"RESPOSTA: {resposta['answer']}\")\n",
        "    if resposta['contexto_encontrado']:\n",
        "        print(\"CITAÇÕES:\")\n",
        "        for c in resposta['citacoes']:\n",
        "            print(f\" - Documento: {c['documento']}, Página: {c['pagina']}\")\n",
        "            print(f\"   Trecho: {c['trecho']}\")\n",
        "        print(\"------------------------------------\")"
      ],
      "metadata": {
        "colab": {
          "base_uri": "https://localhost:8080/"
        },
        "id": "b-_6DQShDt_i",
        "outputId": "551fdf7f-d9c8-4410-e8cc-a6dbeaabdc02"
      },
      "execution_count": 21,
      "outputs": [
        {
          "output_type": "stream",
          "name": "stdout",
          "text": [
            "PERGUNTA: Como acessar o aplicativo ?\n",
            "RESPOSTA: O acesso à plataforma é realizado através de um e-mail e senha cadastrados.\n",
            "CITAÇÕES:\n",
            " - Documento: manual_usuario_feedback_app_v1.2.pdf, Página: 1\n",
            "   Trecho: Manual do Usuário – FeedbackApp v1.2 Última atualização: 12 de setembro de 2025 1. Bem-vindo ao FeedbackApp! Bem-vindo à\n",
            " - Documento: manual_usuario_feedback_app_v1.2.pdf, Página: 2\n",
            "   Trecho: stir, verifique sua conexão com a internet. Este problema às vezes ocorre em versões desatualizadas do navegador. ●​ P: Como posso sugerir uma nova funcionalidade?\n",
            " - Documento: roadmap_produto_q4_2025.pdf, Página: 2\n",
            "   Trecho: ão Priorizado no Momento Funcionalidades que foram sugeridas mas que não estão alinhadas com nossa estratégia atual. ●​ Aplicativo Mobile Nativo (iOS/Android): No momento, nosso foco é aprimorar a experiência na web, que já é totalmente res\n",
            "------------------------------------\n",
            "PERGUNTA: Quero relatar um problema que enfrentei usando o produto. Como faço?\n",
            "RESPOSTA: Para relatar um problema (bug) que você enfrentou, você pode enviá-lo através da plataforma.\n",
            "\n",
            "Para que o relato seja investigado pela equipe de Suporte, ele deve conter as seguintes informações mínimas:\n",
            "\n",
            "*   **Descrição do Problema:** O que aconteceu?\n",
            "*   **Passos para Reproduzir:** O que você fez para o erro acontecer?\n",
            "*   **Resultado Esperado vs. Real:** O que deveria ter acontecido versus o que realmente aconteceu.\n",
            "*   **Informações de Ambiente:** Versão do App, Sistema Operacional e Navegador.\n",
            "CITAÇÕES:\n",
            " - Documento: politica_interna_de_feedback_v2.pdf, Página: 2\n",
            "   Trecho:  mínimas. Se um usuário não fornecer esses dados, o agente de suporte (humano ou IA) deve solicitá-los: ●​ Descrição do Problema: O que aconteceu? ●​ Passos para Reproduzir: O que você fez para o erro acontecer? ●​ Resultado Esperado vs. Re\n",
            " - Documento: politica_interna_de_feedback_v2.pdf, Página: 1\n",
            "   Trecho: al ou causa uma experiência de usuário degradada, mas não impeditiva. ●​ Elogio / Depoimento: Feedback positivo sobre o produto, design, ou atendimento. ●​ Reclamação de Usabilidade (UX): Críticas sobre a dificuldade de uso, design confuso,\n",
            " - Documento: manual_usuario_feedback_app_v1.2.pdf, Página: 2\n",
            "   Trecho: desatualizadas do navegador. ●​ P: Como posso sugerir uma nova funcionalidade? ○​ R: Você pode enviar qualquer sugestão usando o próprio formulário de feedback da sua empresa. Todas as sugestões são lidas e analisadas pela nossa equipe de p\n",
            "------------------------------------\n",
            "PERGUNTA: Quem eu posso contatar pra tirar uma dúvida?\n",
            "RESPOSTA: Não sei.\n",
            "PERGUNTA: Se o céu é azul, quem é você?\n",
            "RESPOSTA: Não sei.\n"
          ]
        }
      ]
    },
    {
      "cell_type": "code",
      "source": [
        "!pip install -q --upgrade langgraph"
      ],
      "metadata": {
        "id": "34MNF6CJcVxS"
      },
      "execution_count": 22,
      "outputs": []
    },
    {
      "cell_type": "code",
      "source": [
        "from typing import TypedDict, Optional\n",
        "\n",
        "class AgentState(TypedDict, total = False):\n",
        "    pergunta: str\n",
        "    feedback: dict\n",
        "    resposta: Optional[str]\n",
        "    citacoes: List[dict]\n",
        "    rag_sucesso: bool\n",
        "    acao_final: str"
      ],
      "metadata": {
        "id": "kA4IuCH7l7dD"
      },
      "execution_count": 23,
      "outputs": []
    },
    {
      "cell_type": "code",
      "source": [
        "def node_feedback(state: AgentState) -> AgentState:\n",
        "    print(\"Executando nó de feedback...\")\n",
        "    return {\"feedback\": feedback(state[\"pergunta\"])}"
      ],
      "metadata": {
        "id": "azIHW9MMpSMR"
      },
      "execution_count": 24,
      "outputs": []
    },
    {
      "cell_type": "code",
      "source": [
        "def node_auto_resolver_produto(state: AgentState) -> AgentState:\n",
        "    print(\"Executando nó de enviar_para_produto...\")\n",
        "    resposta_rag = perguntar_politica_RAG(state[\"pergunta\"])\n",
        "\n",
        "    update: AgentState = {\n",
        "        \"resposta\": resposta_rag[\"answer\"],\n",
        "        \"citacoes\": resposta_rag.get(\"citacoes\", []),\n",
        "        \"rag_sucesso\": resposta_rag[\"contexto_encontrado\"],\n",
        "    }\n",
        "\n",
        "    if resposta_rag[\"contexto_encontrado\"]:\n",
        "        update[\"acao_final\"] = \"ENVIAR_PARA_PRODUTO\"\n",
        "\n",
        "    return update"
      ],
      "metadata": {
        "id": "ETqTgNtf9-C4"
      },
      "execution_count": 25,
      "outputs": []
    },
    {
      "cell_type": "code",
      "source": [
        "def node_auto_resolver_marketing(state: AgentState) -> AgentState:\n",
        "    print(\"Executando nó de enviar_para_marketing...\")\n",
        "    resposta_rag = perguntar_politica_RAG(state[\"pergunta\"])\n",
        "\n",
        "    update: AgentState = {\n",
        "        \"resposta\": resposta_rag[\"answer\"],\n",
        "        \"citacoes\": resposta_rag.get(\"citacoes\", []),\n",
        "        \"rag_sucesso\": resposta_rag[\"contexto_encontrado\"],\n",
        "    }\n",
        "\n",
        "    if resposta_rag[\"contexto_encontrado\"]:\n",
        "        update[\"acao_final\"] = \"ENVIAR_PARA_MARKETING\"\n",
        "\n",
        "    return update"
      ],
      "metadata": {
        "id": "2_1dL5gaq8ML"
      },
      "execution_count": 26,
      "outputs": []
    },
    {
      "cell_type": "code",
      "source": [
        "def node_auto_resolver_suporte(state: AgentState) -> AgentState:\n",
        "    print(\"Executando nó de enviar_para_suporte...\")\n",
        "    resposta_rag = perguntar_politica_RAG(state[\"pergunta\"])\n",
        "\n",
        "    update: AgentState = {\n",
        "        \"resposta\": resposta_rag[\"answer\"],\n",
        "        \"citacoes\": resposta_rag.get(\"citacoes\", []),\n",
        "        \"rag_sucesso\": resposta_rag[\"contexto_encontrado\"],\n",
        "    }\n",
        "\n",
        "    if resposta_rag[\"contexto_encontrado\"]:\n",
        "        update[\"acao_final\"] = \"ENVIAR_PARA_SUPORTE\"\n",
        "\n",
        "    return update"
      ],
      "metadata": {
        "id": "uMq9e8OyrPx8"
      },
      "execution_count": 27,
      "outputs": []
    },
    {
      "cell_type": "code",
      "source": [
        "def node_pedir_info(state: AgentState) -> AgentState:\n",
        "    print(\"Executando nó de pedir_info...\")\n",
        "    faltantes = state[\"feedback\"].get(\"campos_faltantes\", [])\n",
        "    if faltantes:\n",
        "        detalhe = \",\".join(faltantes)\n",
        "    else:\n",
        "        detalhe = \"Tema e contexto específico\"\n",
        "\n",
        "    return {\n",
        "        \"resposta\": f\"Para avançar, preciso que detalhe: {detalhe}\",\n",
        "        \"citacoes\": [],\n",
        "        \"acao_final\": \"PEDIR_INFO\"\n",
        "    }"
      ],
      "metadata": {
        "id": "KSLCHmnX_nBN"
      },
      "execution_count": 28,
      "outputs": []
    },
    {
      "cell_type": "code",
      "source": [
        "#pensar em como conectar com um email para direcionar esse chamado\n",
        "def node_abrir_chamado(state: AgentState) -> AgentState:\n",
        "    print(\"Executando nó de abrir_chamado...\")\n",
        "    feedback = state[\"feedback\"]\n",
        "\n",
        "    return {\n",
        "        \"resposta\": f\"Abrindo chamado com urgência {feedback['nivel_prioridade']}. Descrição: {state['pergunta'][:140]}\",\n",
        "        \"citacoes\": [],\n",
        "        \"acao_final\": \"ABRIR_CHAMADO\"\n",
        "    }"
      ],
      "metadata": {
        "id": "O78XUT7XwjXK"
      },
      "execution_count": 29,
      "outputs": []
    },
    {
      "cell_type": "code",
      "source": [
        "KEYWORDS_ABRIR_TICKET = [\"aprovação\", \"exceção\", \"liberação\", \"abrir ticket\", \"abrir chamado\", \"acesso especial\"]\n",
        "\n",
        "def decidir_pos_triagem(state: AgentState) -> str:\n",
        "    print(\"Decidindo após a triagem...\")\n",
        "    decisao = state[\"feedback\"][\"acao_sugerida\"]\n",
        "\n",
        "    if decisao == \"ENVIAR_PARA_PRODUTO\": return node_auto_resolver_produto\n",
        "    if decisao == \"ENVIAR_PARA_SUPORTE\": return node_auto_resolver_suporte\n",
        "    if decisao == \"ENVIAR_PARA_MARKETING\": return node_auto_resolver_marketing\n",
        "    if decisao == \"PEDIR_INFO\": return node_pedir_info\n",
        "    if decisao == \"ABRIR_CHAMADO\": return node_abrir_chamado\n",
        "\n"
      ],
      "metadata": {
        "id": "N2OfD7nHdTfH"
      },
      "execution_count": 30,
      "outputs": []
    },
    {
      "cell_type": "code",
      "source": [
        "def decidir_pos_auto_resolver(state: AgentState) -> str:\n",
        "    print(\"Decidindo após o auto_resolver...\")\n",
        "\n",
        "    if state.get(\"rag_sucesso\"):\n",
        "        print(\"Rag com sucesso, finalizando o fluxo.\")\n",
        "        return \"ok\"\n",
        "\n",
        "    state_da_pergunta = (state[\"pergunta\"] or \"\").lower()\n",
        "\n",
        "    if any(k in state_da_pergunta for k in KEYWORDS_ABRIR_TICKET):\n",
        "        print(\"Rag falhou, mas foram encontradas keywords de abertura de ticket. Abrindo...\")\n",
        "        return \"chamado\"\n",
        "\n",
        "    print(\"Rag falhou, sem keywords, vou pedir mais informações...\")\n",
        "    return \"info\""
      ],
      "metadata": {
        "id": "8YE3bjbChz-z"
      },
      "execution_count": 31,
      "outputs": []
    },
    {
      "cell_type": "code",
      "source": [
        "from langgraph.graph import StateGraph, START, END\n",
        "\n",
        "workflow = StateGraph(AgentState)\n",
        "\n",
        "workflow.add_node(\"feedback\", node_feedback)\n",
        "workflow.add_node(\"auto_resolver_produto\", node_auto_resolver_produto)\n",
        "workflow.add_node(\"auto_resolver_suporte\", node_auto_resolver_suporte)\n",
        "workflow.add_node(\"auto_resolver_marketing\", node_auto_resolver_marketing)\n",
        "workflow.add_node(\"pedir_info\", node_pedir_info)\n",
        "workflow.add_node(\"abrir_chamado\", node_abrir_chamado)\n",
        "\n",
        "workflow.add_edge(START, \"feedback\")\n",
        "\n",
        "workflow.add_conditional_edges(\"feedback\", decidir_pos_triagem, {\n",
        "    node_auto_resolver_produto: \"auto_resolver_produto\",\n",
        "    node_auto_resolver_suporte: \"auto_resolver_suporte\",\n",
        "    node_auto_resolver_marketing: \"auto_resolver_marketing\",\n",
        "    node_pedir_info: \"pedir_info\",\n",
        "    node_abrir_chamado: \"abrir_chamado\"\n",
        "})\n",
        "\n",
        "\n",
        "workflow.add_conditional_edges(\"auto_resolver_produto\", decidir_pos_auto_resolver, {\n",
        "    \"info\": \"pedir_info\",\n",
        "    \"chamado\": \"abrir_chamado\",\n",
        "    \"ok\": END\n",
        "})\n",
        "\n",
        "workflow.add_conditional_edges(\"auto_resolver_suporte\", decidir_pos_auto_resolver, {\n",
        "    \"info\": \"pedir_info\",\n",
        "    \"chamado\": \"abrir_chamado\",\n",
        "    \"ok\": END\n",
        "})\n",
        "\n",
        "workflow.add_conditional_edges(\"auto_resolver_marketing\", decidir_pos_auto_resolver, {\n",
        "    \"info\": \"pedir_info\",\n",
        "    \"chamado\": \"abrir_chamado\",\n",
        "    \"ok\": END\n",
        "})\n",
        "\n",
        "\n",
        "workflow.add_edge(\"pedir_info\", END)\n",
        "workflow.add_edge(\"abrir_chamado\", END)\n",
        "\n",
        "grafo = workflow.compile()"
      ],
      "metadata": {
        "id": "7ps_hGcqkuZW"
      },
      "execution_count": 32,
      "outputs": []
    },
    {
      "cell_type": "code",
      "source": [
        "from IPython.display import display, Image\n",
        "\n",
        "graph_bytes = grafo.get_graph().draw_mermaid_png()\n",
        "display(Image(graph_bytes))"
      ],
      "metadata": {
        "colab": {
          "base_uri": "https://localhost:8080/",
          "height": 497
        },
        "id": "Vr0Zl2fXl31b",
        "outputId": "2bc50ba8-7681-4d08-c578-75b5fd250361"
      },
      "execution_count": 33,
      "outputs": [
        {
          "output_type": "display_data",
          "data": {
            "image/png": "[encoded data removed]",
            "text/plain": [
              "<IPython.core.display.Image object>"
            ]
          },
          "metadata": {}
        }
      ]
    },
    {
      "cell_type": "code",
      "source": [
        "testes_feedback = [\n",
        "    \"Não estou conseguindo fazer login no sistema\",\n",
        "    \"Seria bom se o app tivesse um tema escuro\",\n",
        "    \"O novo design do app ficou sensacional\",\n",
        "    \"O céu é azul e quem é você ?\",\n",
        "    \"Posso obter o Google Gemini de graça ?\"\n",
        "]"
      ],
      "metadata": {
        "id": "fUlopTEfjVQA"
      },
      "execution_count": 34,
      "outputs": []
    },
    {
      "cell_type": "code",
      "source": [
        "for msg_test in testes_feedback:\n",
        "    resposta_final = grafo.invoke({\"pergunta\": msg_test})\n",
        "\n",
        "    triag = resposta_final.get(\"feedback\", {})\n",
        "    print(f\"PERGUNTA: {msg_test}\")\n",
        "    print(f\"DECISÃO: {triag.get('decisao')} | URGÊNCIA: {triag.get('nivel_prioridade')} | AÇÃO FINAL: {resposta_final.get('acao_final')}\")\n",
        "    print(f\"RESPOSTA: {resposta_final.get('resposta')}\")\n",
        "    if resposta_final.get(\"citacoes\"):\n",
        "        print(\"CITAÇÕES:\")\n",
        "        for citacao in resposta_final.get(\"citacoes\"):\n",
        "            print(f\" - Documento: {citacao['documento']}, Página: {citacao['pagina']}\")\n",
        "            print(f\"   Trecho: {citacao['trecho']}\")\n",
        "\n",
        "    print(\"------------------------------------\")"
      ],
      "metadata": {
        "colab": {
          "base_uri": "https://localhost:8080/"
        },
        "id": "Gy-wLWt9jtrc",
        "outputId": "09c95c88-6cda-43f4-ee28-d505044da424"
      },
      "execution_count": 36,
      "outputs": [
        {
          "output_type": "stream",
          "name": "stdout",
          "text": [
            "Executando nó de feedback...\n",
            "Decidindo após a triagem...\n",
            "Executando nó de enviar_para_suporte...\n",
            "Decidindo após o auto_resolver...\n",
            "Rag com sucesso, finalizando o fluxo.\n",
            "PERGUNTA: Não estou conseguindo fazer login no sistema\n",
            "DECISÃO: None | URGÊNCIA: ALTA | AÇÃO FINAL: ENVIAR_PARA_SUPORTE\n",
            "RESPOSTA: Para problemas de login, o manual sugere as seguintes ações:\n",
            "\n",
            "*   Se o botão 'Entrar' não estiver funcionando, tente limpar o cache do seu navegador e recarregar a página.\n",
            "*   Se o problema persistir, verifique sua conexão com a internet.\n",
            "*   Este problema às vezes ocorre em versões desatualizadas do navegador.\n",
            "*   Caso tenha esquecido sua senha, utilize o link \"Esqueci minha senha\" disponível na página de login para iniciar o processo de recuperação.\n",
            "CITAÇÕES:\n",
            " - Documento: manual_usuario_feedback_app_v1.2.pdf, Página: 1\n",
            "   Trecho: a senha\" disponível na página de login para iniciar o processo de recuperação. 2.2. Conhecendo o Dashboard Principal Ao fazer login, você será apresentado ao Dashboard de Análise. Ele oferece uma visão geral e em tempo real da satisfação do\n",
            " - Documento: roadmap_produto_q4_2025.pdf, Página: 2\n",
            "   Trecho: ra PDF: Estamos avaliando a demanda e a complexidade técnica para gerar relatórios visualmente ricos em formato PDF. ●​ Login Social (Google & Microsoft): Analisando os requisitos de segurança e implementação para oferecer mais opções de lo\n",
            " - Documento: manual_usuario_feedback_app_v1.2.pdf, Página: 2\n",
            "   Trecho: ●​ Tags: Organize seus feedbacks aplicando tags (ex: ux-melhoria, bug-critico, mobile-app). 3.2. Exportação de Relatório\n",
            "------------------------------------\n",
            "Executando nó de feedback...\n",
            "Decidindo após a triagem...\n",
            "Executando nó de enviar_para_produto...\n",
            "Decidindo após o auto_resolver...\n",
            "Rag com sucesso, finalizando o fluxo.\n",
            "PERGUNTA: Seria bom se o app tivesse um tema escuro\n",
            "DECISÃO: None | URGÊNCIA: MEDIA | AÇÃO FINAL: ENVIAR_PARA_PRODUTO\n",
            "RESPOSTA: Sim, o Modo Escuro (Dark Mode) está em desenvolvimento avançado e a previsão de lançamento é para Novembro de 2025. Ele visa reduzir o cansaço visual para usuários que trabalham em ambientes com pouca luz ou durante longos períodos.\n",
            "CITAÇÕES:\n",
            " - Documento: roadmap_produto_q4_2025.pdf, Página: 1\n",
            "   Trecho: o da plataforma FeedbackApp. 🚀 Em Desenvolvimento Funcionalidades que nossa equipe está construindo ativamente. 1. Modo Escuro (Dark Mode) ●​ Problema Alvo: Reduzir o cansaço visual para usuários que trabalham em ambientes com pouca luz ou \n",
            " - Documento: roadmap_produto_q4_2025.pdf, Página: 2\n",
            "   Trecho: ●​ Exportação de Relatórios para PDF: Estamos avaliando a demanda e a complexidade técnica para gerar relatórios visualm\n",
            " - Documento: manual_usuario_feedback_app_v1.2.pdf, Página: 2\n",
            "   Trecho: ●​ Tags: Organize seus feedbacks aplicando tags (ex: ux-melhoria, bug-critico, mobile-app). 3.2. Exportação de Relatório\n",
            "------------------------------------\n",
            "Executando nó de feedback...\n",
            "Decidindo após a triagem...\n",
            "Executando nó de enviar_para_marketing...\n",
            "Decidindo após o auto_resolver...\n",
            "Rag falhou, sem keywords, vou pedir mais informações...\n",
            "Executando nó de pedir_info...\n",
            "PERGUNTA: O novo design do app ficou sensacional\n",
            "DECISÃO: None | URGÊNCIA: BAIXA | AÇÃO FINAL: PEDIR_INFO\n",
            "RESPOSTA: Para avançar, preciso que detalhe: Tema e contexto específico\n",
            "------------------------------------\n",
            "Executando nó de feedback...\n",
            "Decidindo após a triagem...\n",
            "Executando nó de pedir_info...\n",
            "PERGUNTA: O céu é azul e quem é você ?\n",
            "DECISÃO: None | URGÊNCIA: BAIXA | AÇÃO FINAL: PEDIR_INFO\n",
            "RESPOSTA: Para avançar, preciso que detalhe: Tema e contexto específico\n",
            "------------------------------------\n",
            "Executando nó de feedback...\n",
            "Decidindo após a triagem...\n",
            "Executando nó de pedir_info...\n",
            "PERGUNTA: Posso obter o Google Gemini de graça ?\n",
            "DECISÃO: None | URGÊNCIA: BAIXA | AÇÃO FINAL: PEDIR_INFO\n",
            "RESPOSTA: Para avançar, preciso que detalhe: Tema e contexto específico\n",
            "------------------------------------\n"
          ]
        }
      ]
    }
  ]
}